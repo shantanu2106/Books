{
 "cells": [
  {
   "cell_type": "markdown",
   "id": "6514d0bf",
   "metadata": {},
   "source": [
    "# Chapter 1 : The Way of Program\n",
    "\n",
    "*Key Notes:*\n",
    "\n",
    "1. A **program** is a sequence of instructions that specifies how to perform a computation which can be something mathematical or symbolic computation\n",
    "2. Few basic **instructions** appeared in different languages\n",
    "   1. input - Get data\n",
    "   2. output - display data\n",
    "   3. math - perform basic mathematical operations\n",
    "   4. repetition - perform some actions repeatedly \n",
    "3. Python provides **operators** which are special symbols that represent computations such as addition and multiplication\n",
    "4. A **value** is one of the basic things a program works with, like a number or a letter\n",
    "   1. the values belong to different types such as integer <int>, float <float>, or string <str>\n",
    "5. Formal and Natural Language - \n",
    "   1. Natural language is the one which people speaks such as English, Spanish etc.\n",
    "   2. Formal language are languages that are designed by people for specific applications. \n",
    "      1. Formal languages tend to have strict **syntax** rules that govern the structure of the statements\n",
    "         1. The syntax comes in two ways : tokens and structure\n",
    "            1. **tokens** are the basic elements of the language such as words, numbers etc\n",
    "            2. The structure is how the tokens are combined \n",
    "         2. The process of identifying the structure of the language is called **parsing** "
   ]
  },
  {
   "cell_type": "markdown",
   "id": "36be67d6",
   "metadata": {},
   "source": [
    "# Exercises\n",
    "\n",
    "*Exercise 1-1.*\n",
    "\n",
    "It is a good idea to read this book in front of a computer so you can try out the exam‐\n",
    "ples as you go.\n",
    "Whenever you are experimenting with a new feature, you should try to make mis‐\n",
    "takes. For example, in the “Hello, world!” program, what happens if you leave out one\n",
    "of the quotation marks? What if you leave out both? What if you spell print wrong?\n",
    "This kind of experiment helps you remember what you read; it also helps when you\n",
    "are programming, because you get to know what the error messages mean. It is better\n",
    "to make mistakes now and on purpose than later and accidentally.\n",
    "\n",
    "\n",
    "1. In a print statement, what happens if you leave out one of the parentheses, or\n",
    "both?\n",
    "2. If you are trying to print a string, what happens if you leave out one of the quota‐\n",
    "tion marks, or both?\n",
    "3. You can use a minus sign to make a negative number like -2. What happens if\n",
    "you put a plus sign before a number? What about 2++2?\n",
    "4. In math notation, leading zeros are okay, as in 09. What happens if you try this in\n",
    "Python? What about 011?\n",
    "5. What happens if you have two values with no operator between them?\n",
    "   \n",
    "*Exercise 1-2.*\n",
    "\n",
    "Start the Python interpreter and use it as a calculator.\n",
    "1. How many seconds are there in 42 minutes 42 seconds?\n",
    "2. How many miles are there in 10 kilometers? Hint: there are 1.61 kilometers in a\n",
    "mile.\n",
    "1. If you run a 10 kilometer race in 42 minutes 42 seconds, what is your average\n",
    "pace (time per mile in minutes and seconds)? What is your average speed in\n",
    "miles per hour?"
   ]
  },
  {
   "cell_type": "code",
   "execution_count": null,
   "id": "9bcb3745",
   "metadata": {},
   "outputs": [
    {
     "name": "stdout",
     "output_type": "stream",
     "text": [
      "Number of seconds in 42 minutes and 42 seconds is 2562\n",
      "Miles in 10 kilometers is 16.1\n",
      "Average pace will be 2.652173913043478\n",
      "Average speed will be 22.622950819672134\n"
     ]
    }
   ],
   "source": [
    "# Exercise 1-1\n",
    "\n",
    "# In a print statement, what happens if you leave out one of the parentheses, or both?\n",
    "\n",
    "## --> print #returns <function print>\n",
    "\n",
    "# If you are trying to print a string, what happens if you leave out one of the quotation marks, or both?\n",
    "\n",
    "## --> print(hello world)  #returns <invalid syntax.>\n",
    "\n",
    "# You can use a minus sign to make a negative number like -2. What happens if you put a plus sign before a number? What about 2++2?\n",
    "\n",
    "## --> print(2+-2) #This returns 0\n",
    "## --> print(2++2) #This returns 4\n",
    "\n",
    "# In math notation, leading zeros are okay, as in 09. What happens if you try this in Python? What about 011?\n",
    "\n",
    "## --> 011 #Not permitted. Returns <Syntax Error: leading zeros in decimal integer literals are not permitted>\n",
    "\n",
    "#  What happens if you have two values with no operator between them?\n",
    "\n",
    "## --> 'is this''valid thing?' # it joins the two string without space\n",
    "\n",
    "# Exercise 1-2\n",
    "# How many seconds are there in 42 minutes 42 seconds?\n",
    "\n",
    "print('Number of seconds in 42 minutes and 42 seconds is ' + str(42*60 + 42))\n",
    "\n",
    "# How many miles are there in 10 kilometers? Hint: there are 1.61 kilometers in a mile\n",
    "\n",
    "print('Miles in 10 kilometers is ' + str(10*1.61))\n",
    "\n",
    "# If you run a 10 kilometer race in 42 minutes 42 seconds, what is your average pace (time per mile in minutes and seconds)? What is your average speed in miles per hour?\n",
    "\n",
    "print('Average pace (time per mile in minutes) will be ' + str((42+42/60)/(10*1.61)))\n",
    "print('Average speed (mile per hour) will be ' + str((10*1.61)/((42+42/60)/60)))"
   ]
  }
 ],
 "metadata": {
  "kernelspec": {
   "display_name": "myenv",
   "language": "python",
   "name": "python3"
  },
  "language_info": {
   "codemirror_mode": {
    "name": "ipython",
    "version": 3
   },
   "file_extension": ".py",
   "mimetype": "text/x-python",
   "name": "python",
   "nbconvert_exporter": "python",
   "pygments_lexer": "ipython3",
   "version": "3.10.16"
  }
 },
 "nbformat": 4,
 "nbformat_minor": 5
}
